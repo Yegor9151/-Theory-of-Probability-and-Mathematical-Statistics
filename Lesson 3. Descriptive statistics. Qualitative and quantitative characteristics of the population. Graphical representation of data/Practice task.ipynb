{
 "cells": [
  {
   "cell_type": "code",
   "execution_count": 37,
   "metadata": {},
   "outputs": [],
   "source": [
    "import numpy as np\n",
    "import pandas as pd\n",
    "import matplotlib.pyplot as plt\n",
    "import seaborn as sns\n",
    "from pylab import rcParams"
   ]
  },
  {
   "cell_type": "code",
   "execution_count": 2,
   "metadata": {},
   "outputs": [],
   "source": [
    "%matplotlib inline\n",
    "%config Inlinebackend.figure_format = 'svg'"
   ]
  },
  {
   "cell_type": "code",
   "execution_count": 3,
   "metadata": {},
   "outputs": [],
   "source": [
    "rcParams['figure.figsize'] = 8, 4"
   ]
  },
  {
   "cell_type": "markdown",
   "metadata": {},
   "source": [
    "### Задача 1\n",
    "\n",
    "##### Даны значения зарплат из выборки выпускников:\n",
    "\n",
    "100, 80, 75, 77, 89, 33, 45, 25, 65, 17, 30, 230, 24, 57, 55, 70, 75, 65, 84, 90, 150\n",
    "\n",
    "##### Используя только встроенные питоновские функции и структуры данных (т.е. без библиотек numpy, pandas и др.) посчитать среднее арифметическое, смещённую и несмещённую оценки дисперсии, среднее квадратичное отклонение для данной выборки.\n",
    "\n",
    "##### Можно затем посчитать те же значения с использованием библиотек, чтобы проверить себя."
   ]
  },
  {
   "cell_type": "code",
   "execution_count": 4,
   "metadata": {},
   "outputs": [],
   "source": [
    "salaries = [100, 80, 75, 77, 89, 33, 45, 25, 65, 17, 30, 230, 24, 57, 55, 70, 75, 65, 84, 90, 150]\n",
    "salaries2 = [100, 80, 75, 77, 89, 33, 45, 25, 65, 17, 30, 230, 24, 57, 55, 70] \n",
    "# для проверки на чётном количестве эллементов"
   ]
  },
  {
   "cell_type": "code",
   "execution_count": 5,
   "metadata": {},
   "outputs": [],
   "source": [
    "def mean(figures):\n",
    "    '''average'''\n",
    "    \n",
    "    return sum(figures)/len(figures)"
   ]
  },
  {
   "cell_type": "code",
   "execution_count": 6,
   "metadata": {},
   "outputs": [
    {
     "data": {
      "text/plain": [
       "73.14285714285714"
      ]
     },
     "execution_count": 6,
     "metadata": {},
     "output_type": "execute_result"
    }
   ],
   "source": [
    "mean(salaries)"
   ]
  },
  {
   "cell_type": "code",
   "execution_count": 7,
   "metadata": {},
   "outputs": [],
   "source": [
    "def offset_variance(figures):\n",
    "    '''offset variance'''\n",
    "    \n",
    "    n = len(figures)\n",
    "    x_mean_cube = [(i - mean(figures))**2 for i in figures]\n",
    "    \n",
    "    return sum(x_mean_cube)/n"
   ]
  },
  {
   "cell_type": "code",
   "execution_count": 8,
   "metadata": {},
   "outputs": [
    {
     "data": {
      "text/plain": [
       "2135.074829931973"
      ]
     },
     "execution_count": 8,
     "metadata": {},
     "output_type": "execute_result"
    }
   ],
   "source": [
    "offset_variance(salaries)"
   ]
  },
  {
   "cell_type": "code",
   "execution_count": 9,
   "metadata": {},
   "outputs": [],
   "source": [
    "def unbiased_variance(figures):\n",
    "    '''unbiased variance'''\n",
    "    \n",
    "    n = len(figures)\n",
    "    x_mean_cube = [(i - mean(figures))**2 for i in figures]\n",
    "    \n",
    "    return sum(x_mean_cube)/(n-1)"
   ]
  },
  {
   "cell_type": "code",
   "execution_count": 10,
   "metadata": {},
   "outputs": [
    {
     "data": {
      "text/plain": [
       "2241.8285714285716"
      ]
     },
     "execution_count": 10,
     "metadata": {},
     "output_type": "execute_result"
    }
   ],
   "source": [
    "unbiased_variance(salaries)"
   ]
  },
  {
   "cell_type": "code",
   "execution_count": 11,
   "metadata": {},
   "outputs": [],
   "source": [
    "def ostd(figures):\n",
    "    '''offset standart deviation'''\n",
    "    \n",
    "    return offset_variance(figures)**(1/2)"
   ]
  },
  {
   "cell_type": "code",
   "execution_count": 12,
   "metadata": {},
   "outputs": [
    {
     "data": {
      "text/plain": [
       "46.20686994302874"
      ]
     },
     "execution_count": 12,
     "metadata": {},
     "output_type": "execute_result"
    }
   ],
   "source": [
    "ostd(salaries)"
   ]
  },
  {
   "cell_type": "code",
   "execution_count": 13,
   "metadata": {},
   "outputs": [],
   "source": [
    "def ustd(figures):\n",
    "    '''unbiased standart deviation'''\n",
    "    \n",
    "    return unbiased_variance(figures)**(1/2)"
   ]
  },
  {
   "cell_type": "code",
   "execution_count": 14,
   "metadata": {},
   "outputs": [
    {
     "data": {
      "text/plain": [
       "47.34795213553139"
      ]
     },
     "execution_count": 14,
     "metadata": {},
     "output_type": "execute_result"
    }
   ],
   "source": [
    "ustd(salaries)"
   ]
  },
  {
   "cell_type": "markdown",
   "metadata": {},
   "source": [
    "### Задача 2\n",
    "\n",
    "##### Для выборки из задачи 1 найти (также без использования библиотек):\n",
    "1. медиану, первый и третий квартили, интерквартильное расстояние,\n",
    "2. выборсы в выборке (используя для этого метод как при построении \"усов\" из boxplot).\n",
    "\n",
    "##### Возможные неоднозначности в вычислении квантилей можно разрешать любым способом."
   ]
  },
  {
   "cell_type": "code",
   "execution_count": 15,
   "metadata": {},
   "outputs": [],
   "source": [
    "def sort(figures):\n",
    "    '''bubble sort'''\n",
    "    \n",
    "    # создаём нужные переменные\n",
    "    fig = figures[:]\n",
    "    quantity = len(figures)\n",
    "    \n",
    "    # сортируем массив\n",
    "    for i in range(quantity):\n",
    "        for j in range(quantity):\n",
    "            if fig[i] < fig[j]:\n",
    "                fig[i], fig[j] = fig[j], fig[i]\n",
    "    \n",
    "    return fig"
   ]
  },
  {
   "cell_type": "code",
   "execution_count": 16,
   "metadata": {},
   "outputs": [],
   "source": [
    "def quantile(figures, q):\n",
    "    '''quantile'''\n",
    "    \n",
    "    # check type variable\n",
    "    if type(q) is not list:\n",
    "        q = [q]\n",
    "    \n",
    "    # create the necessary variables\n",
    "    fig = sort(figures)\n",
    "    quantity = len(figures)\n",
    "         \n",
    "    # looking for quantile\n",
    "    quantile = []\n",
    "    for i in q:\n",
    "        fourth = quantity*i\n",
    "        if fourth - int(fourth) == 0:\n",
    "            result = (fig[int(fourth)] - fig[int(fourth)-1])*(1-i) + fig[int(fourth)-1]\n",
    "            quantile.append(result)\n",
    "        else:\n",
    "            result = fig[int(fourth)]\n",
    "            quantile.append(result)\n",
    "    \n",
    "    # process the result\n",
    "    if len(quantile) == 1:\n",
    "        return quantile[0]\n",
    "    else:\n",
    "        return quantile"
   ]
  },
  {
   "cell_type": "code",
   "execution_count": 17,
   "metadata": {},
   "outputs": [
    {
     "data": {
      "text/plain": [
       "(70, 61.0)"
      ]
     },
     "execution_count": 17,
     "metadata": {},
     "output_type": "execute_result"
    }
   ],
   "source": [
    "quantile(salaries, 0.5), quantile(salaries2, 0.5)"
   ]
  },
  {
   "cell_type": "code",
   "execution_count": 23,
   "metadata": {},
   "outputs": [
    {
     "data": {
      "text/plain": [
       "(45, 32.25)"
      ]
     },
     "execution_count": 23,
     "metadata": {},
     "output_type": "execute_result"
    }
   ],
   "source": [
    "quantile(salaries, 0.25), quantile(salaries2, 0.25)"
   ]
  },
  {
   "cell_type": "code",
   "execution_count": 25,
   "metadata": {},
   "outputs": [
    {
     "data": {
      "text/plain": [
       "(84, 77.75)"
      ]
     },
     "execution_count": 25,
     "metadata": {},
     "output_type": "execute_result"
    }
   ],
   "source": [
    "quantile(salaries, 0.75), quantile(salaries2, 0.75)"
   ]
  },
  {
   "cell_type": "code",
   "execution_count": 27,
   "metadata": {},
   "outputs": [
    {
     "data": {
      "text/plain": [
       "([45, 84], [32.25, 77.75])"
      ]
     },
     "execution_count": 27,
     "metadata": {},
     "output_type": "execute_result"
    }
   ],
   "source": [
    "quantile(salaries, [0.25, 0.75]), quantile(salaries2, [0.25, 0.75])"
   ]
  },
  {
   "cell_type": "code",
   "execution_count": 44,
   "metadata": {},
   "outputs": [],
   "source": [
    "def emissions(figures):\n",
    "    '''looking for emissions'''\n",
    "    \n",
    "    q1 = quantile(figures, 0.25)\n",
    "    q3 = quantile(figures, 0.75)\n",
    "\n",
    "    iqr = q3 - q1\n",
    "\n",
    "    boxplot_range = (q1 - 1.5 * iqr, q3 + 1.5 * iqr)\n",
    "    \n",
    "    return boxplot_range"
   ]
  },
  {
   "cell_type": "code",
   "execution_count": 47,
   "metadata": {},
   "outputs": [
    {
     "data": {
      "text/plain": [
       "((-13.5, 142.5), (-36.0, 146.0))"
      ]
     },
     "execution_count": 47,
     "metadata": {},
     "output_type": "execute_result"
    }
   ],
   "source": [
    "emissions(salaries), emissions(salaries2)"
   ]
  },
  {
   "cell_type": "markdown",
   "metadata": {},
   "source": [
    "### Задача 3\n",
    "\n",
    "#### В университет на факультеты A и B поступило равное количество студентов, а на факультет C студентов поступило столько же, сколько на A и B вместе. Вероятность того, что студент факультета A сдаст первую сессию, равна 0.8. Для студента факультета B эта вероятность равна 0.7, а для студента факультета C - 0.9. Студент сдал первую сессию. Какова вероятность, что он учится: a) на факультете A? б) на факультете B? в) на факультете C?\n",
    "\n",
    "Замечание: да, эта задача не на тему описательных статистик, но тема важная, и её стоит иногда освежать в памяти."
   ]
  },
  {
   "cell_type": "markdown",
   "metadata": {},
   "source": [
    "$A$ - студент факультета сдал первую сессию\n",
    "\n",
    "$B$ - $i$й факультет, $i \\in \\{1,2,3\\} = A,B,C$\n",
    "\n",
    "$\n",
    "P(B_1) = P(B_2) = \\frac{1}{10}\\\\\n",
    "P(B_3) = \\frac{1}{20}\n",
    "$"
   ]
  },
  {
   "cell_type": "markdown",
   "metadata": {},
   "source": [
    "$\n",
    "P(A|B_1)=0.8\\\\\n",
    "P(A|B_2)=0.7\\\\\n",
    "P(A|B_3)=0.9\\\\\n",
    "$"
   ]
  },
  {
   "cell_type": "code",
   "execution_count": 93,
   "metadata": {},
   "outputs": [],
   "source": [
    "Pafb1= 0.8\n",
    "Pafb2 = 0.7\n",
    "Pafb3 = 0.9\n",
    "\n",
    "Pb1 = Pb2 = 1/25\n",
    "Pb3 = 1/50"
   ]
  },
  {
   "cell_type": "code",
   "execution_count": 98,
   "metadata": {},
   "outputs": [],
   "source": [
    "def Bayes(Pafb: float, Pb: float, Pa: float):\n",
    "    '''Bayes'''\n",
    "    \n",
    "    return (Pafb * Pb)/Pa"
   ]
  },
  {
   "cell_type": "code",
   "execution_count": 99,
   "metadata": {},
   "outputs": [
    {
     "data": {
      "text/plain": [
       "0.078"
      ]
     },
     "execution_count": 99,
     "metadata": {},
     "output_type": "execute_result"
    }
   ],
   "source": [
    "Pa = Pafb1 * Pb1 + Pafb2 * Pb2 + Pafb3 * Pb3\n",
    "Pa"
   ]
  },
  {
   "cell_type": "code",
   "execution_count": 100,
   "metadata": {},
   "outputs": [
    {
     "data": {
      "text/plain": [
       "'вероятность того что студент учится на факультете А = 0.41025641025641024'"
      ]
     },
     "execution_count": 100,
     "metadata": {},
     "output_type": "execute_result"
    }
   ],
   "source": [
    "f'вероятность того что студент учится на факультете А = {Bayes(Pafb1, Pb1, Pa)}'"
   ]
  },
  {
   "cell_type": "code",
   "execution_count": 101,
   "metadata": {},
   "outputs": [
    {
     "data": {
      "text/plain": [
       "'вероятность того что студент учится на факультете B = 0.3589743589743589'"
      ]
     },
     "execution_count": 101,
     "metadata": {},
     "output_type": "execute_result"
    }
   ],
   "source": [
    "f'вероятность того что студент учится на факультете B = {Bayes(Pafb2, Pb2, Pa)}'"
   ]
  },
  {
   "cell_type": "code",
   "execution_count": 102,
   "metadata": {},
   "outputs": [
    {
     "data": {
      "text/plain": [
       "'вероятность того что студент учится на факультете C = 0.2307692307692308'"
      ]
     },
     "execution_count": 102,
     "metadata": {},
     "output_type": "execute_result"
    }
   ],
   "source": [
    "f'вероятность того что студент учится на факультете C = {Bayes(Pafb3, Pb3, Pa)}'"
   ]
  },
  {
   "cell_type": "code",
   "execution_count": null,
   "metadata": {},
   "outputs": [],
   "source": []
  }
 ],
 "metadata": {
  "kernelspec": {
   "display_name": "Python 3",
   "language": "python",
   "name": "python3"
  },
  "language_info": {
   "codemirror_mode": {
    "name": "ipython",
    "version": 3
   },
   "file_extension": ".py",
   "mimetype": "text/x-python",
   "name": "python",
   "nbconvert_exporter": "python",
   "pygments_lexer": "ipython3",
   "version": "3.7.4"
  }
 },
 "nbformat": 4,
 "nbformat_minor": 2
}
