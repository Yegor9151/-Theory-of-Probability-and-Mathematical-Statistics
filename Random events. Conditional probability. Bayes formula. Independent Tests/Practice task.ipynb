{
 "cells": [
  {
   "cell_type": "code",
   "execution_count": 1,
   "metadata": {},
   "outputs": [],
   "source": [
    "import numpy as np"
   ]
  },
  {
   "cell_type": "markdown",
   "metadata": {},
   "source": [
    "__Задача 1__\n",
    "\n",
    "##### Из колоды в 52 карты вынимают случайным образом 4 карты. Найти число исходов, соответствующих тому, что был вытянут хотя бы один туз."
   ]
  },
  {
   "cell_type": "markdown",
   "metadata": {},
   "source": [
    "Составим функцию для нахождения всех возможных комбинации данных"
   ]
  },
  {
   "cell_type": "markdown",
   "metadata": {},
   "source": [
    "$\n",
    "C_{n}^k = \\cfrac{n!}{k!(n - k)!}\n",
    "$"
   ]
  },
  {
   "cell_type": "code",
   "execution_count": 2,
   "metadata": {},
   "outputs": [
    {
     "data": {
      "text/plain": [
       "array([1, 2, 3, 4])"
      ]
     },
     "execution_count": 2,
     "metadata": {},
     "output_type": "execute_result"
    }
   ],
   "source": [
    "n = 52 # общее число карт\n",
    "k = 4 # вытянутые 4 карты\n",
    "abcd = np.arange(1,5)\n",
    "abcd"
   ]
  },
  {
   "cell_type": "code",
   "execution_count": 3,
   "metadata": {},
   "outputs": [],
   "source": [
    "def combinations(n: int, k: int):\n",
    "    '''число сочетаний'''\n",
    "    \n",
    "    factorial = np.math.factorial\n",
    "    result = factorial(n) // (factorial(k) * factorial(n - k))\n",
    "    \n",
    "    return result"
   ]
  },
  {
   "cell_type": "code",
   "execution_count": 4,
   "metadata": {},
   "outputs": [
    {
     "data": {
      "text/plain": [
       "270725"
      ]
     },
     "execution_count": 4,
     "metadata": {},
     "output_type": "execute_result"
    }
   ],
   "source": [
    "all_varies = combinations(n, k) # все вариенты вытащить 4 карты из 52 (для себя)\n",
    "all_varies"
   ]
  },
  {
   "cell_type": "markdown",
   "metadata": {},
   "source": [
    "1) число способов достать все возможные комбинации тузов из 4 карт"
   ]
  },
  {
   "cell_type": "code",
   "execution_count": 5,
   "metadata": {},
   "outputs": [
    {
     "data": {
      "text/plain": [
       "[4, 6, 4, 1]"
      ]
     },
     "execution_count": 5,
     "metadata": {},
     "output_type": "execute_result"
    }
   ],
   "source": [
    "all_of_four = [combinations(4, i) for i in abcd] # все вариенты вытащить тузы карты из 4 тузов\n",
    "all_of_four"
   ]
  },
  {
   "cell_type": "markdown",
   "metadata": {},
   "source": [
    "Мы видим, что есть только 1 исход при котором все 4 туза вытащины из колоды"
   ]
  },
  {
   "cell_type": "markdown",
   "metadata": {},
   "source": [
    "2) число способов достать все возможные комбинации оставшиеся не тузы из оставшихся в колоде карт"
   ]
  },
  {
   "cell_type": "code",
   "execution_count": 6,
   "metadata": {},
   "outputs": [
    {
     "data": {
      "text/plain": [
       "[17296, 1128, 48, 1]"
      ]
     },
     "execution_count": 6,
     "metadata": {},
     "output_type": "execute_result"
    }
   ],
   "source": [
    "remaining = [combinations(n-4, 4-i) for i in abcd] # все варианты вытащить оставныеся не тузы из оставшейся колоды\n",
    "remaining"
   ]
  },
  {
   "cell_type": "markdown",
   "metadata": {},
   "source": [
    "Так же видим что есть только 1 исход, при котором не тузы не вытащены из колоды"
   ]
  },
  {
   "cell_type": "markdown",
   "metadata": {},
   "source": [
    "3) Найдём произведения каждого варианта вытащенных тузов и остальных карт"
   ]
  },
  {
   "cell_type": "code",
   "execution_count": 7,
   "metadata": {},
   "outputs": [
    {
     "data": {
      "text/plain": [
       "[69184, 6768, 192, 1]"
      ]
     },
     "execution_count": 7,
     "metadata": {},
     "output_type": "execute_result"
    }
   ],
   "source": [
    "abcd_varies = [all_of_four[i] * remaining[i] for i in range(k)] \n",
    "# все варианты вытащенных 4 карты для разного колическа вытащенных тузов из 52\n",
    "abcd_varies"
   ]
  },
  {
   "cell_type": "markdown",
   "metadata": {},
   "source": [
    "4) Суммируем все варианты - получаем ответ"
   ]
  },
  {
   "cell_type": "code",
   "execution_count": 8,
   "metadata": {},
   "outputs": [
    {
     "data": {
      "text/plain": [
       "76145"
      ]
     },
     "execution_count": 8,
     "metadata": {},
     "output_type": "execute_result"
    }
   ],
   "source": [
    "sum(abcd_varies)"
   ]
  },
  {
   "cell_type": "markdown",
   "metadata": {},
   "source": [
    "Ответ:\n",
    "\n",
    "Число исходов, при которых вытащен козябы 1 туз из 4 вытянутых карт из колоды в 52 карты, равно 76145."
   ]
  },
  {
   "cell_type": "markdown",
   "metadata": {},
   "source": [
    "__Задача 2__\n",
    "\n",
    "##### Семь человек рассаживаются наудачу на скамейке. Какова вероятность того, что рядом будут сидеть: а) два определённых человека? б) три определённых человека?"
   ]
  },
  {
   "cell_type": "markdown",
   "metadata": {},
   "source": [
    "Есть только 1 массив - 7 человек;\n",
    "\n",
    "Есть только 1 исход - определённые люди должны сесть рядом:\n",
    "\n",
    "    а) 2 человека"
   ]
  },
  {
   "cell_type": "markdown",
   "metadata": {},
   "source": [
    "Допусти что 6 человек уже заняли свои места на скамейке, среди них есть 1й определённый человек, а 2й определённый человек ещё не сел на скомейку. Учитывая, что мы не знаем где сидит 1й - так как люди содятся случайным образом, мы можем предположить, что 2й человек может сесть как справа так и слева от каждого уже сидящего человека, то есть $\\frac{2}{1}$, но так как сидящич людей уже 6 а не 1, то получается $\\frac{2}{(1+6)} = \\frac{2}{7}$."
   ]
  },
  {
   "cell_type": "code",
   "execution_count": 9,
   "metadata": {},
   "outputs": [
    {
     "data": {
      "text/plain": [
       "'Вероятность того, что рядом будут сидеть два определённых человека = 0.2857142857142857'"
      ]
     },
     "execution_count": 9,
     "metadata": {},
     "output_type": "execute_result"
    }
   ],
   "source": [
    "f'Вероятность того, что рядом будут сидеть два определённых человека = {2/7}'"
   ]
  },
  {
   "cell_type": "markdown",
   "metadata": {},
   "source": [
    "    б) три определённых человека"
   ]
  },
  {
   "cell_type": "markdown",
   "metadata": {},
   "source": [
    "Берём за основу предыдущее решение. Допустим 2е людей уже сидят рядом, тогда уменьшаем количество вариентов для 3го на 1, то есть $\\frac{2}{7-1}$. Так как для того, что бы все 3 определённых человека сидели рядом, нужно что бы 2 из них уже сидели рядом, а значит составляем следующую формулу $\\frac{2}{7} \\cdot \\frac{2}{7-1} = \\frac{2}{7} \\cdot \\frac{1}{3} = \\frac{2}{7 \\cdot 3} = \\frac{2}{21}$."
   ]
  },
  {
   "cell_type": "code",
   "execution_count": 10,
   "metadata": {},
   "outputs": [
    {
     "data": {
      "text/plain": [
       "'Вероятность того, что рядом будут сидеть три определённых человека = 0.09523809523809523'"
      ]
     },
     "execution_count": 10,
     "metadata": {},
     "output_type": "execute_result"
    }
   ],
   "source": [
    "f'Вероятность того, что рядом будут сидеть три определённых человека = {2/21}'"
   ]
  },
  {
   "cell_type": "markdown",
   "metadata": {},
   "source": [
    "__Задача 3__\n",
    "\n",
    "##### Из 60 вопросов, входящих в экзаменационные билеты, студент знает 50. Какова вероятность того, что среди трёх наугад выбранных вопросов студент знает: а) все? б) два?"
   ]
  },
  {
   "cell_type": "markdown",
   "metadata": {},
   "source": [
    "    а) Все"
   ]
  },
  {
   "cell_type": "markdown",
   "metadata": {},
   "source": [
    "1) Найдём вероятность вотянуть первый билет из тек которые студент знает - $\\frac{50}{60}$."
   ]
  },
  {
   "cell_type": "code",
   "execution_count": 11,
   "metadata": {},
   "outputs": [],
   "source": [
    "al = 60 \n",
    "kn = 50\n",
    "un = al-k"
   ]
  },
  {
   "cell_type": "code",
   "execution_count": 12,
   "metadata": {},
   "outputs": [
    {
     "data": {
      "text/plain": [
       "'Шанс вытянуть 1й билет из тех которые студент знает = 0.8333333333333334'"
      ]
     },
     "execution_count": 12,
     "metadata": {},
     "output_type": "execute_result"
    }
   ],
   "source": [
    "t = kn/al\n",
    "f'Шанс вытянуть 1й билет из тех которые студент знает = {t}'"
   ]
  },
  {
   "cell_type": "markdown",
   "metadata": {},
   "source": [
    "2) Теперь найдём вероятность вытянуть 2 оставшихся билета, при том, что 1й был вытянут из тех, которые студент знает, коэффициент второго билета будет равен $\\frac{50-1}{60-1}$, а 3го, при условии, что 2й тоже был из тех, которые студент знает, соответственно $\\frac{50-2}{60-2}$"
   ]
  },
  {
   "cell_type": "code",
   "execution_count": 13,
   "metadata": {},
   "outputs": [
    {
     "data": {
      "text/plain": [
       "'Шанс вытянуть 2й билет из тех которые студент знает = 0.8305084745762712'"
      ]
     },
     "execution_count": 13,
     "metadata": {},
     "output_type": "execute_result"
    }
   ],
   "source": [
    "t2 = (kn-1)/(al-1)\n",
    "f'Шанс вытянуть 2й билет из тех которые студент знает = {t2}'"
   ]
  },
  {
   "cell_type": "code",
   "execution_count": 14,
   "metadata": {},
   "outputs": [
    {
     "data": {
      "text/plain": [
       "'Шанс вытянуть 3й билет из тех которые студент знает = 0.8275862068965517'"
      ]
     },
     "execution_count": 14,
     "metadata": {},
     "output_type": "execute_result"
    }
   ],
   "source": [
    "t3 = (kn-2)/(al-2)\n",
    "f'Шанс вытянуть 3й билет из тех которые студент знает = {t3}'"
   ]
  },
  {
   "cell_type": "markdown",
   "metadata": {},
   "source": [
    "3) Зная вероятности всех трёх билетов, нужно узнать вероятность того, что все эти 3 билета будут вытянуты"
   ]
  },
  {
   "cell_type": "code",
   "execution_count": 15,
   "metadata": {},
   "outputs": [
    {
     "data": {
      "text/plain": [
       "'Вероятность того, что все 3 вытянутых билета известны студенту = 0.5727644652250146'"
      ]
     },
     "execution_count": 15,
     "metadata": {},
     "output_type": "execute_result"
    }
   ],
   "source": [
    "f'Вероятность того, что все 3 вытянутых билета известны студенту = {t * t2 * t3}'"
   ]
  },
  {
   "cell_type": "markdown",
   "metadata": {},
   "source": [
    "    б) Два"
   ]
  },
  {
   "cell_type": "markdown",
   "metadata": {},
   "source": [
    "1) Здесь для нас важно каким будет вытянут билет, который студент не знает, так как он всего лишь 1, а общее число вытянутых билетов 3, можно сразу сказать, что есть 3 варинта вытянуть не известный билет - 1м, 2м или 3м."
   ]
  },
  {
   "cell_type": "markdown",
   "metadata": {},
   "source": [
    "2) Если есть 1 билет из 3, который не известен студенту, то каждый из трёх билетов может оказаться либо известным, либо неизвестным. Найдём вероятности для каждого из 3х исходов:"
   ]
  },
  {
   "cell_type": "code",
   "execution_count": 16,
   "metadata": {},
   "outputs": [
    {
     "data": {
      "text/plain": [
       "'Вероятность 1го исхода (известный, известный, не известный) = 0.6682252094291837'"
      ]
     },
     "execution_count": 16,
     "metadata": {},
     "output_type": "execute_result"
    }
   ],
   "source": [
    "r1 = (kn/al) * ((kn-1)/(al-1)) * (un/(al-2))\n",
    "f'Вероятность 1го исхода (известный, известный, не известный) = {r1}'"
   ]
  },
  {
   "cell_type": "code",
   "execution_count": 17,
   "metadata": {},
   "outputs": [
    {
     "data": {
      "text/plain": [
       "'Вероятность 2го исхода (известный, не известный, известный) = 0.6682252094291837'"
      ]
     },
     "execution_count": 17,
     "metadata": {},
     "output_type": "execute_result"
    }
   ],
   "source": [
    "r2 = (kn/al) * (un/(al-1)) * ((kn-1)/(al-2))\n",
    "f'Вероятность 2го исхода (известный, не известный, известный) = {r2}'"
   ]
  },
  {
   "cell_type": "code",
   "execution_count": 18,
   "metadata": {},
   "outputs": [
    {
     "data": {
      "text/plain": [
       "'Вероятность 2го исхода (не известный, известный, известный) = 0.6682252094291836'"
      ]
     },
     "execution_count": 18,
     "metadata": {},
     "output_type": "execute_result"
    }
   ],
   "source": [
    "r3 = (un/(al)) * (kn/(al-1)) * ((kn-1)/(al-2))\n",
    "f'Вероятность 2го исхода (не известный, известный, известный) = {r3}'"
   ]
  },
  {
   "cell_type": "markdown",
   "metadata": {},
   "source": [
    "Как мы видим результаты для всех 3х исходов почти не изменились и тем не менее для числоты выведем средний результат"
   ]
  },
  {
   "cell_type": "code",
   "execution_count": 19,
   "metadata": {},
   "outputs": [
    {
     "data": {
      "text/plain": [
       "'Вероятность того, что 2 из 3х вытянутых билетов будут известны студенту = 0.6682252094291837'"
      ]
     },
     "execution_count": 19,
     "metadata": {},
     "output_type": "execute_result"
    }
   ],
   "source": [
    "f'Вероятность того, что 2 из 3х вытянутых билетов будут известны студенту = {(r1 + r2 + r3)/3}'"
   ]
  },
  {
   "cell_type": "markdown",
   "metadata": {},
   "source": [
    "__Задача 4__\n",
    "\n",
    "##### Бросается игральная кость. Пусть событие `A` - появление чётного числа, событие `B` - появление числа больше трёх. Являются ли эти события независимыми?"
   ]
  },
  {
   "cell_type": "markdown",
   "metadata": {},
   "source": [
    "$\n",
    "P(A) = \\frac{1}{6} \\\\\n",
    "P(B) = \\frac{1}{2} \\\\\n",
    "P(AB) = \\frac{1}{12} \\\\\n",
    "P(A|B) = \\cfrac{P(AB)}{P(B)} = \\cfrac{\\frac{1}{12}}{\\frac{1}{2}} = \\frac{1 \\cdot 2}{12 \\cdot 1} = \\frac{1}{6}\n",
    "$\n",
    "\n",
    "Поскольку  $P(A|B)=P(A) \\Rightarrow A \\land B$  независимы."
   ]
  },
  {
   "cell_type": "markdown",
   "metadata": {},
   "source": [
    "__Задача 5__\n",
    "\n",
    "##### Допустим, имеется некоторая очень редкая болезнь (поражает 0.1% населения). Вы приходите к врачу, вам делают тест на эту болезнь, и тест оказывается положительным. Врач говорит вам, что этот тест верно выявляет 99% больных этой болезнью и всего лишь в 1% случаев даёт ложный положительный ответ.\n",
    "\n",
    "##### _Вопрос_: какова вероятность, что вы действительно больны ей?\n",
    "\n",
    "##### _Подсказка_: вновь используйте формулу Байеса с раскрытием знаменателя с помощью формулы полной вероятности."
   ]
  },
  {
   "cell_type": "markdown",
   "metadata": {},
   "source": [
    "$\n",
    "P(A|B) = \\dfrac{P(B|A) \\cdot P(A)}{P(B)} \\\\\n",
    "P(A) = 0,1\\% - вероятность\\ заразиться\\\\\n",
    "P(B|A) = 99\\% - вероятность\\ точности\\ теста\\ при\\ условии\\ заражения\\\\\n",
    "P(B) = P(B|A) \\cdot P(A) + P(B| \\overline{A}) \\cdot P (\\overline{A}) - полная\\ вероятность\\ наличия\\ болезни\n",
    "$"
   ]
  },
  {
   "cell_type": "code",
   "execution_count": 92,
   "metadata": {},
   "outputs": [
    {
     "data": {
      "text/plain": [
       "(0.001, 0.99)"
      ]
     },
     "execution_count": 92,
     "metadata": {},
     "output_type": "execute_result"
    }
   ],
   "source": [
    "A = 0.1/100\n",
    "BfA = 99/100\n",
    "A,BfA"
   ]
  },
  {
   "cell_type": "code",
   "execution_count": 93,
   "metadata": {},
   "outputs": [
    {
     "data": {
      "text/plain": [
       "0.09016393442622944"
      ]
     },
     "execution_count": 93,
     "metadata": {},
     "output_type": "execute_result"
    }
   ],
   "source": [
    "AfB = (BfA * A)/(BfA * A + (1-BfA) * (1-A))\n",
    "AfB"
   ]
  },
  {
   "cell_type": "code",
   "execution_count": 97,
   "metadata": {},
   "outputs": [
    {
     "data": {
      "text/plain": [
       "'вероятность, что Я действительно болен = 90.74999999999999%'"
      ]
     },
     "execution_count": 97,
     "metadata": {},
     "output_type": "execute_result"
    }
   ],
   "source": [
    "AfB2 = (BfA * AfB)/(BfA * AfB + (1-BfA) * (1-AfB))\n",
    "f'вероятность, что Я действительно болен = {AfB2 * 100}%'"
   ]
  },
  {
   "cell_type": "code",
   "execution_count": null,
   "metadata": {},
   "outputs": [],
   "source": []
  }
 ],
 "metadata": {
  "kernelspec": {
   "display_name": "Python 3",
   "language": "python",
   "name": "python3"
  },
  "language_info": {
   "codemirror_mode": {
    "name": "ipython",
    "version": 3
   },
   "file_extension": ".py",
   "mimetype": "text/x-python",
   "name": "python",
   "nbconvert_exporter": "python",
   "pygments_lexer": "ipython3",
   "version": "3.7.4"
  }
 },
 "nbformat": 4,
 "nbformat_minor": 2
}
